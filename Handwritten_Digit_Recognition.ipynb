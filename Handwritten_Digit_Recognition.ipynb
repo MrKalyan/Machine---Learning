{
  "nbformat": 4,
  "nbformat_minor": 0,
  "metadata": {
    "colab": {
      "name": "Handwritten Digit Recognition.ipynb",
      "provenance": []
    },
    "kernelspec": {
      "name": "python3",
      "display_name": "Python 3"
    }
  },
  "cells": [
    {
      "cell_type": "code",
      "metadata": {
        "id": "cfaRdo4CNjY9",
        "colab_type": "code",
        "colab": {
          "base_uri": "https://localhost:8080/",
          "height": 35
        },
        "outputId": "f3e8e4b5-872b-42de-bd81-ddbab53b1dad"
      },
      "source": [
        "    import keras\n",
        "    from keras.datasets import mnist\n",
        "    from keras.models import Sequential\n",
        "    from keras.layers import Dense, Dropout, Flatten\n",
        "    from keras.layers import Conv2D, MaxPooling2D\n",
        "    from keras import backend as K\n",
        "    # the data, split between train and test sets\n",
        "    (x_train, y_train), (x_test, y_test) = mnist.load_data()\n",
        "    print(x_train.shape, y_train.shape)"
      ],
      "execution_count": null,
      "outputs": [
        {
          "output_type": "stream",
          "text": [
            "(60000, 28, 28) (60000,)\n"
          ],
          "name": "stdout"
        }
      ]
    },
    {
      "cell_type": "code",
      "metadata": {
        "id": "toMVJftHRI3s",
        "colab_type": "code",
        "colab": {
          "base_uri": "https://localhost:8080/",
          "height": 72
        },
        "outputId": "b47c244e-6ac8-4229-9de3-e06ecc16e5d9"
      },
      "source": [
        "    x_train = x_train.reshape(x_train.shape[0], 28, 28, 1)\n",
        "    x_test = x_test.reshape(x_test.shape[0], 28, 28, 1)\n",
        "    input_shape = (28, 28, 1)\n",
        "    num_classes=10\n",
        "    # convert class vectors to binary class matrices\n",
        "    y_train = keras.utils.to_categorical(y_train, num_classes)\n",
        "    y_test = keras.utils.to_categorical(y_test, num_classes)\n",
        "    x_train = x_train.astype('float32')\n",
        "    x_test = x_test.astype('float32')\n",
        "    x_train /= 255\n",
        "    x_test /= 255\n",
        "    print('x_train shape:', x_train.shape)\n",
        "    print(x_train.shape[0], 'train samples')\n",
        "    print(x_test.shape[0], 'test samples')"
      ],
      "execution_count": null,
      "outputs": [
        {
          "output_type": "stream",
          "text": [
            "x_train shape: (60000, 28, 28, 1)\n",
            "60000 train samples\n",
            "10000 test samples\n"
          ],
          "name": "stdout"
        }
      ]
    },
    {
      "cell_type": "code",
      "metadata": {
        "id": "8_G_D74WRitn",
        "colab_type": "code",
        "colab": {}
      },
      "source": [
        "    batch_size = 128\n",
        "    num_classes = 10\n",
        "    epochs = 10\n",
        "    model = Sequential()\n",
        "    model.add(Conv2D(32, kernel_size=(3, 3),activation='relu',input_shape=input_shape))\n",
        "    model.add(Conv2D(64, (3, 3), activation='relu'))\n",
        "    model.add(MaxPooling2D(pool_size=(2, 2)))\n",
        "    model.add(Dropout(0.25))\n",
        "    model.add(Flatten())\n",
        "    model.add(Dense(256, activation='relu'))\n",
        "    model.add(Dropout(0.5))\n",
        "    model.add(Dense(num_classes, activation='softmax'))\n",
        "    model.compile(loss=keras.losses.categorical_crossentropy,optimizer=keras.optimizers.Adadelta(),metrics=['accuracy'])"
      ],
      "execution_count": null,
      "outputs": []
    },
    {
      "cell_type": "code",
      "metadata": {
        "id": "ev9bIfKtU23w",
        "colab_type": "code",
        "colab": {
          "base_uri": "https://localhost:8080/",
          "height": 344
        },
        "outputId": "b072f789-4bfa-455b-d12e-5c3ce975d8f9"
      },
      "source": [
        "    hist = model.fit(x_train, y_train,batch_size=batch_size,epochs=epochs,verbose=1,validation_data=(x_test, y_test))\n",
        "    print(\"The model has successfully trained\")\n",
        "    model.save('mnist.h5')\n",
        "    print(\"Saving the model as mnist.h5\")"
      ],
      "execution_count": null,
      "outputs": [
        {
          "output_type": "stream",
          "text": [
            "Epoch 1/10\n",
            "469/469 [==============================] - 155s 331ms/step - loss: 2.2763 - accuracy: 0.1570 - val_loss: 2.2451 - val_accuracy: 0.3052\n",
            "Epoch 2/10\n",
            "469/469 [==============================] - 154s 329ms/step - loss: 2.2231 - accuracy: 0.2806 - val_loss: 2.1781 - val_accuracy: 0.4953\n",
            "Epoch 3/10\n",
            "469/469 [==============================] - 156s 332ms/step - loss: 2.1506 - accuracy: 0.3911 - val_loss: 2.0840 - val_accuracy: 0.6166\n",
            "Epoch 4/10\n",
            "469/469 [==============================] - 154s 329ms/step - loss: 2.0485 - accuracy: 0.4824 - val_loss: 1.9490 - val_accuracy: 0.6840\n",
            "Epoch 5/10\n",
            "469/469 [==============================] - 155s 330ms/step - loss: 1.9013 - accuracy: 0.5513 - val_loss: 1.7571 - val_accuracy: 0.7287\n",
            "Epoch 6/10\n",
            "469/469 [==============================] - 155s 331ms/step - loss: 1.7035 - accuracy: 0.6085 - val_loss: 1.5125 - val_accuracy: 0.7639\n",
            "Epoch 7/10\n",
            "469/469 [==============================] - 155s 330ms/step - loss: 1.4787 - accuracy: 0.6463 - val_loss: 1.2550 - val_accuracy: 0.7940\n",
            "Epoch 8/10\n",
            "469/469 [==============================] - 155s 331ms/step - loss: 1.2684 - accuracy: 0.6784 - val_loss: 1.0334 - val_accuracy: 0.8183\n",
            "Epoch 9/10\n",
            "283/469 [=================>............] - ETA: 59s - loss: 1.1264 - accuracy: 0.7017"
          ],
          "name": "stdout"
        }
      ]
    },
    {
      "cell_type": "code",
      "metadata": {
        "id": "LsF6xEy1VHCj",
        "colab_type": "code",
        "colab": {
          "base_uri": "https://localhost:8080/",
          "height": 53
        },
        "outputId": "d45adced-9f9e-4977-fc79-6d57429dd0c6"
      },
      "source": [
        "    score = model.evaluate(x_test, y_test, verbose=0)\n",
        "    print('Test loss:', score[0])\n",
        "    print('Test accuracy:', score[1])"
      ],
      "execution_count": null,
      "outputs": [
        {
          "output_type": "stream",
          "text": [
            "Test loss: 0.6305364370346069\n",
            "Test accuracy: 0.847100019454956\n"
          ],
          "name": "stdout"
        }
      ]
    },
    {
      "cell_type": "code",
      "metadata": {
        "id": "gf6wyQ1cbOZt",
        "colab_type": "code",
        "colab": {}
      },
      "source": [
        ""
      ],
      "execution_count": null,
      "outputs": []
    }
  ]
}